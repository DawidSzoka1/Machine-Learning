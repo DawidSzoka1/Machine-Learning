{
  "nbformat": 4,
  "nbformat_minor": 0,
  "metadata": {
    "colab": {
      "provenance": [],
      "authorship_tag": "ABX9TyONl4MO/s5wq8wKfzkqSFNc",
      "include_colab_link": true
    },
    "kernelspec": {
      "name": "python3",
      "display_name": "Python 3"
    },
    "language_info": {
      "name": "python"
    }
  },
  "cells": [
    {
      "cell_type": "markdown",
      "metadata": {
        "id": "view-in-github",
        "colab_type": "text"
      },
      "source": [
        "<a href=\"https://colab.research.google.com/github/DawidSzoka1/machine-learning/blob/main/tensorflow.ipynb\" target=\"_parent\"><img src=\"https://colab.research.google.com/assets/colab-badge.svg\" alt=\"Open In Colab\"/></a>"
      ]
    },
    {
      "cell_type": "code",
      "execution_count": 1,
      "metadata": {
        "id": "rsLXl2EGN9AK"
      },
      "outputs": [],
      "source": [
        "import numpy as np\n",
        "import tensorflow as tf"
      ]
    },
    {
      "cell_type": "code",
      "source": [
        "w = tf.Variable(0, dtype=tf.float32)\n",
        "optimizer = tf.keras.optimizers.Adam(0.1)\n",
        "\n",
        "def train_step():\n",
        "  with tf.GradientTape() as tape:\n",
        "    cost = w ** 2 - 10 * w + 25\n",
        "  trainable_variables = [w]\n",
        "  grads = tape.gradient(cost, trainable_variables)\n",
        "  optimizer.apply_gradients(zip(grads, trainable_variables))\n",
        "\n",
        "print(w)\n"
      ],
      "metadata": {
        "colab": {
          "base_uri": "https://localhost:8080/"
        },
        "id": "joHj5ioaODAI",
        "outputId": "1234cc1d-6bf4-4ad8-c643-46f7af9744f4"
      },
      "execution_count": 2,
      "outputs": [
        {
          "output_type": "stream",
          "name": "stdout",
          "text": [
            "<tf.Variable 'Variable:0' shape=() dtype=float32, numpy=0.0>\n"
          ]
        }
      ]
    },
    {
      "cell_type": "code",
      "source": [
        "train_step()\n",
        "print(w)"
      ],
      "metadata": {
        "colab": {
          "base_uri": "https://localhost:8080/"
        },
        "id": "rFPZPrroO4wN",
        "outputId": "10b8ccab-3cd1-4056-a467-90591d9a2d27"
      },
      "execution_count": 3,
      "outputs": [
        {
          "output_type": "stream",
          "name": "stdout",
          "text": [
            "<tf.Variable 'Variable:0' shape=() dtype=float32, numpy=0.09999931>\n"
          ]
        }
      ]
    },
    {
      "cell_type": "code",
      "source": [
        "for i in range(1000):\n",
        "  train_step()\n",
        "print(w)"
      ],
      "metadata": {
        "colab": {
          "base_uri": "https://localhost:8080/"
        },
        "id": "QN-nJUymO8Gk",
        "outputId": "cb19e845-1753-465e-9405-451fcadfa05b"
      },
      "execution_count": 4,
      "outputs": [
        {
          "output_type": "stream",
          "name": "stdout",
          "text": [
            "<tf.Variable 'Variable:0' shape=() dtype=float32, numpy=5.000001>\n"
          ]
        }
      ]
    },
    {
      "cell_type": "code",
      "source": [
        "w = tf.Variable(0, dtype=tf.float32)\n",
        "x = np.array([1.0, -10.0, 25.0], dtype=np.float32)\n",
        "optimizer = tf.keras.optimizers.Adam(0.1)\n",
        "\n",
        "def training(x, w, optimizer):\n",
        "\n",
        "  def cost_fn():\n",
        "    return x[0] * w ** 2 + w * x[1] + x[2]\n",
        "  for i in range(1000):\n",
        "    optimizer.minimize(cost_fn, [w])\n",
        "  return w\n",
        "\n",
        "w = training(x, w, optimizer)\n",
        "\n",
        "print(w)"
      ],
      "metadata": {
        "colab": {
          "base_uri": "https://localhost:8080/"
        },
        "id": "lEExVQbKPBcU",
        "outputId": "51c50201-a2de-433c-dd76-820829eeaff8"
      },
      "execution_count": 8,
      "outputs": [
        {
          "output_type": "stream",
          "name": "stdout",
          "text": [
            "<tf.Variable 'Variable:0' shape=() dtype=float32, numpy=5.000001>\n"
          ]
        }
      ]
    },
    {
      "cell_type": "code",
      "source": [],
      "metadata": {
        "id": "e4XYsh-kQHHa"
      },
      "execution_count": null,
      "outputs": []
    }
  ]
}